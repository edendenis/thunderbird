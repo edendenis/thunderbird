{
 "cells": [
  {
   "cell_type": "markdown",
   "metadata": {},
   "source": [
    "# Como configurar/instalar/usar o `thunderbird` no `Linux Ubuntu`\n",
    "\n",
    "## Resumo\n",
    "\n",
    "Neste documento estão contidos os principais comandos e configurações para configurar/instalar/usar o `thunderbird` no `Linux Ubuntu`.\n",
    "\n",
    "## _Abstract_\n",
    "\n",
    "_This document contains the main commands and settings for configuring/installing/use `thunderbird` on Linux Ubuntu._"
   ]
  },
  {
   "cell_type": "markdown",
   "metadata": {},
   "source": [
    "## Descrição [2]\n",
    "\n",
    "### `thunderbird`\n",
    "\n",
    "O `Thunderbird` é um cliente de e-mail de código aberto desenvolvido pela Mozilla Foundation. Ele oferece uma plataforma versátil para gerenciar e-mails, calendários, contatos e feeds de notícias em um único aplicativo. Com recursos avançados de organização, filtro de mensagens, busca eficiente e suporte para extensões, o `Thunderbird` é uma escolha popular entre os usuários que buscam um cliente de e-mail robusto e personalizável. Além disso, sua ênfase na segurança e na privacidade, incluindo a integração com criptografia S/MIME e OpenPGP, torna-o uma opção atraente para aqueles que valorizam a proteção de suas comunicações eletrônicas. O `Thunderbird` é compatível com várias plataformas, incluindo Windows, macOS e Linux, tornando-se uma ferramenta versátil para gerenciamento de e-mail e comunicação pessoal e profissional.\n",
    "\n",
    "### Add-in/Add-on: `Provider for Calendar`\n",
    "\n",
    "`\"Provider for Calendar\"` (Provedor para Calendário) é uma extensão para o cliente de e-mail Mozilla `Thunderbird` que permite a sincronização e a integração de calendários em sua interface. Essa extensão é frequentemente usada em conjunto com o `Thunderbird` e o aplicativo de calendário Lightning para fornecer recursos de gerenciamento de calendário mais avançados.\n",
    "\n",
    "Com o \"Provider for Calendar\", você pode conectar seu cliente de e-mail `Thunderbird` ao seu serviço de calendário online, como o Google Calendar, CalDAV ou outros, permitindo que você visualize e gerencie seus eventos e compromissos diretamente do `Thunderbird`. Ele torna mais fácil a organização de compromissos, reuniões e tarefas, bem como a sincronização desses eventos entre vários dispositivos.\n",
    "\n",
    "Para usar o `\"Provider for Calendar\"`, geralmente é necessário configurar a extensão com os detalhes de sua conta de calendário online e, em seguida, você poderá acessar e gerenciar seus calendários diretamente no `Thunderbird`. Essa extensão é especialmente útil para pessoas que desejam unificar suas comunicações por e-mail e seus compromissos de calendário em um único aplicativo de gerenciamento de informações pessoais.\n",
    "\n",
    "### Add-in/Add-on: `Send Later`\n",
    "\n",
    "A funcionalidade `\"Send Later\"` (Enviar depois) no `Thunderbird` é uma característica que permite que você agende o envio de e-mails para uma data e hora futura específicas. Isso pode ser útil quando você deseja redigir um e-mail, mas não deseja que ele seja entregue imediatamente. Com o `\"Send Later\"`, você pode definir a hora exata em que deseja que o e-mail seja enviado, o que pode ser útil para garantir que seus e-mails sejam entregues no momento mais adequado para o destinatário ou para evitar que sejam enviados fora do horário comercial, por exemplo.\n",
    "\n",
    "Para usar a função `\"Send Later\"` no `Thunderbird`, você normalmente precisa de uma extensão ou complemento chamado \"Send Later\" ou \"SendLater\". Essa extensão adiciona essa funcionalidade ao cliente de e-mail, permitindo que você agende o envio de e-mails de acordo com suas preferências. Certifique-se de instalar a extensão apropriada no `Thunderbird` e siga as instruções fornecidas para configurar e usar o recurso `\"Send Later\"` de acordo com suas necessidades."
   ]
  },
  {
   "cell_type": "markdown",
   "metadata": {},
   "source": [
    "## 1. Configurar/Instalar/usar o `thunderbird` no `Linux Ubuntu` [1]\n",
    "\n",
    "Para configurar/instalar/usar o `thunderbird` no `Linux Ubuntu`, você pode seguir estas etapas:\n",
    "\n",
    "1. Abra o `Terminal Emulator`. Você pode fazer isso pressionando: `Ctrl + Alt + T`\n",
    "    "
   ]
  },
  {
   "cell_type": "markdown",
   "metadata": {},
   "source": [
    "2. Certifique-se de que seu sistema esteja limpo e atualizado.\n",
    "\n",
    "    2.1 Limpar o `cache` do gerenciador de pacotes `apt`. Especificamente, ele remove todos os arquivos de pacotes (`.deb`) baixados pelo `apt` e armazenados em `/var/cache/apt/archives/`. Digite o seguinte comando: `sudo apt clean` \n",
    "    \n",
    "    2.2 Remover pacotes `.deb` antigos ou duplicados do cache local. É útil para liberar espaço, pois remove apenas os pacotes que não podem mais ser baixados (ou seja, versões antigas de pacotes que foram atualizados). Digite o seguinte comando: `sudo apt autoclean`\n",
    "\n",
    "    2.3 Remover pacotes que foram automaticamente instalados para satisfazer as dependências de outros pacotes e que não são mais necessários. Digite o seguinte comando: `sudo apt autoremove -y`\n",
    "\n",
    "    2.4 Buscar as atualizações disponíveis para os pacotes que estão instalados em seu sistema. Digite o seguinte comando e pressione `Enter`: `sudo apt update`\n",
    "\n",
    "    2.5 **Corrigir pacotes quebrados**: Isso atualizará a lista de pacotes disponíveis e tentará corrigir pacotes quebrados ou com dependências ausentes: `sudo apt --fix-broken install`\n",
    "\n",
    "    2.6 Limpar o `cache` do gerenciador de pacotes `apt`. Especificamente, ele remove todos os arquivos de pacotes (`.deb`) baixados pelo `apt` e armazenados em `/var/cache/apt/archives/`. Digite o seguinte comando: `sudo apt clean` \n",
    "    \n",
    "    2.7 Para ver a lista de pacotes a serem atualizados, digite o seguinte comando e pressione `Enter`:  `sudo apt list --upgradable`\n",
    "\n",
    "    2.8 Realmente atualizar os pacotes instalados para as suas versões mais recentes, com base na última vez que você executou `sudo apt update`. Digite o seguinte comando e pressione `Enter`: `sudo apt full-upgrade -y`\n",
    "    "
   ]
  },
  {
   "cell_type": "markdown",
   "metadata": {},
   "source": [
    "Para instalar o `Thunderbird` no `Linux Ubuntu`, você pode seguir os seguintes passos:\n",
    "\n",
    "1. **Instale o `Thunderbird`:** Após atualizar a lista de pacotes, instale o `Thunderbird` usando o `apt`. Execute o comando: `sudo apt install thunderbird -y`\n",
    "\n",
    "    Este comando baixará e instalará o `Thunderbird` e todas as suas dependências.\n",
    "\n",
    "2. **Verifique a Instalação:** Após a conclusão da instalação, você pode verificar se o `Thunderbird` foi instalado corretamente. Para isso, você pode tentar iniciá-lo a partir do terminal com o comando: `thunderbird`\n"
   ]
  },
  {
   "cell_type": "markdown",
   "metadata": {},
   "source": [
    "### 1.1 Adicionar complementos (add-in/add-on)\n",
    "\n",
    "### 1.1.1 Add-in/Add-on: `Provider for Calendar` [3]\n",
    "\n",
    "O complemento que você pode usar para gerenciar o calendário do Google no `Thunderbird` é o `\"Provider for Google Calendar\"`. Este complemento permite que o `Thunderbird` leia e escreva eventos e tarefas para um calendário do Google, proporcionando um acesso bidirecional.\n",
    "\n",
    "Para instalar o complemento, você precisa:\n",
    "\n",
    "1. Baixar o arquivo do complemento `\"Provider for Google Calendar\"` do site de complementos do `Thunderbird`. Para isso, siga o(s) próximo(s) passos:\n",
    "\n",
    "2. No `Thunderbird`, clicar no menu e selecionar `Add-on and Themes` (`\"Complementos\"`) para abrir o Gerenciador de Complementos.\n",
    "\n",
    "3. Clicar na pesquisa `Find more add-ons`\n",
    "\n",
    "4. Digitar: `Provider for Google Calendar`\n",
    "\n",
    "5. Clicar em: `Add to Thunderbird`\n",
    "\n",
    "6. Clicar em: `Add`\n",
    "\n",
    "7. Clicar em: `OK`\n",
    "\n",
    "8. Após a instalação, você precisa reiniciar o `Thunderbird`.\n",
    "\n",
    "Lembre-se de que algumas limitações podem existir ao usar o calendário do Google com o Thunderbird, por isso é recomendável ler a documentação fornecida pelo complemento para qualquer solução de problemas específicos.\n",
    "\n"
   ]
  },
  {
   "cell_type": "markdown",
   "metadata": {},
   "source": [
    "#### 1.1.2 Add-in/Add-on: `Send Later` [3]\n",
    "\n",
    "Se você não encontrou a opção para agendar o envio de e-mail diretamente no `Thunderbird`, é possível que essa funcionalidade não esteja disponível na versão padrão do programa. Em algumas versões do `Thunderbird`, agendar o envio de um e-mail é um recurso que pode ser adicionado através de uma extensão, como a `Send Later` (`\"Enviar mais tarde\"`).\n",
    "\n",
    "Se você estiver procurando agendar um e-mail e não vê a opção `Send Later` (`\"Agendar envio\"`) diretamente na interface, provavelmente precisará instalar essa extensão. Aqui estão os passos que você pode seguir para instalar uma extensão no `Thunderbird`:\n",
    "\n",
    "1. Abra o `Thunderbird` e clique no menu `Tools` (`\"Ferramentas\"`) na barra de menu superior.\n",
    "\n",
    "2. Selecione `Add-ons and Themes` (`\"Complementos\"`) para abrir o Gerenciador de Complementos.\n",
    "\n",
    "3. Na barra de pesquisa, digite `Send Later` (`\"Enviar mais tarde\"`) para encontrar a extensão.\n",
    "\n",
    "4. Clique em `\"Add to Thunderbird\"` para instalar a extensão.\n",
    "\n",
    "5. Após a instalação, você precisará reiniciar o `Thunderbird`.\n",
    "\n",
    "6. Depois de reiniciar, ao compor um novo e-mail, você deverá ver novas opções para agendar o envio.\n",
    "\n",
    "Lembre-se de que o `Thunderbird` precisa estar aberto no horário programado para o envio, ou ele enviará o e-mail assim que o programa for aberto.\n"
   ]
  },
  {
   "cell_type": "markdown",
   "metadata": {},
   "source": [
    "## 1.2 Código completo configurar/instalar\n",
    "\n",
    "Para instalar o `thunderbird` no `Kali Linux` sem precisar digitar linha por linha, você pode seguir estas etapas:\n",
    "\n",
    "1. Abra o terminal. Você pode fazer isso pressionando: `Ctrl + Alt + T`\n",
    "\n",
    "2. Digite o seguinte comando e pressione `Enter`:\n",
    "\n",
    "    ```\n",
    "    sudo apt clean                                                            ─╯\n",
    "    sudo apt autoclean\n",
    "    sudo apt autoremove -y\n",
    "    sudo apt update\n",
    "    sudo apt --fix-broken install\n",
    "    sudo apt clean\n",
    "    sudo apt list --upgradable\n",
    "    sudo apt full-upgrade -y\n",
    "    sudo apt install thunderbird -y\n",
    "    thunderbird\n",
    "    ```"
   ]
  },
  {
   "cell_type": "markdown",
   "metadata": {
    "vscode": {
     "languageId": "plaintext"
    }
   },
   "source": [
    "## Referências\n",
    "\n",
    "[1] OPENAI. ***Instalar thunderbird no kali linux:*** https://chat.openai.com/c/ca32a491-3dc6-4a66-bdc3-0f56f6d16943 (texto adaptado). Acessado em: 04/11/2023 13:58.\n",
    "\n",
    "[2] OPENAI. ***Vs code: editor popular:*** https://chat.openai.com/c/b640a25d-f8e3-4922-8a3b-ed74a2657e42 (texto adaptado). Acessado em: 04/11/2023 13:58.\n",
    "\n",
    "[3] OPENAI. ***Agendar envio de e-mails:*** https://chat.openai.com/c/71faaa05-25e2-4816-a559-dfaee1f04f7c (texto adaptado). Acessado em: 19/12/2023 18:45."
   ]
  }
 ],
 "metadata": {
  "kernelspec": {
   "display_name": "Python 3",
   "language": "python",
   "name": "python3"
  },
  "language_info": {
   "codemirror_mode": {
    "name": "ipython",
    "version": 3
   },
   "file_extension": ".py",
   "mimetype": "text/x-python",
   "name": "python",
   "nbconvert_exporter": "python",
   "pygments_lexer": "ipython3",
   "version": "3.8.10"
  },
  "orig_nbformat": 4
 },
 "nbformat": 4,
 "nbformat_minor": 2
}
